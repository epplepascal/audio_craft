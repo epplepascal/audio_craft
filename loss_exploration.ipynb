{
 "cells": [
  {
   "cell_type": "code",
   "execution_count": 1,
   "metadata": {},
   "outputs": [],
   "source": [
    "%load_ext autoreload\n",
    "%autoreload 2"
   ]
  },
  {
   "cell_type": "code",
   "execution_count": 2,
   "metadata": {},
   "outputs": [
    {
     "name": "stderr",
     "output_type": "stream",
     "text": [
      "objc[75967]: Class AVFFrameReceiver is implemented in both /Users/epple/audio_craft/.env/lib/python3.9/site-packages/av/.dylibs/libavdevice.60.3.100.dylib (0x1073b8760) and /opt/homebrew/Cellar/ffmpeg/6.1.1_6/lib/libavdevice.60.3.100.dylib (0x15e530370). One of the two will be used. Which one is undefined.\n",
      "objc[75967]: Class AVFAudioReceiver is implemented in both /Users/epple/audio_craft/.env/lib/python3.9/site-packages/av/.dylibs/libavdevice.60.3.100.dylib (0x1073b87b0) and /opt/homebrew/Cellar/ffmpeg/6.1.1_6/lib/libavdevice.60.3.100.dylib (0x15e5303c0). One of the two will be used. Which one is undefined.\n",
      "/Users/epple/audio_craft/.env/lib/python3.9/site-packages/tqdm/auto.py:21: TqdmWarning: IProgress not found. Please update jupyter and ipywidgets. See https://ipywidgets.readthedocs.io/en/stable/user_install.html\n",
      "  from .autonotebook import tqdm as notebook_tqdm\n"
     ]
    }
   ],
   "source": [
    "from audiocraft.data.audio import audio_read\n",
    "from audiocraft.data.audio_utils import convert_audio\n",
    "import torch.nn.functional as F"
   ]
  },
  {
   "cell_type": "code",
   "execution_count": 3,
   "metadata": {},
   "outputs": [
    {
     "data": {
      "text/plain": [
       "48000"
      ]
     },
     "execution_count": 3,
     "metadata": {},
     "output_type": "execute_result"
    }
   ],
   "source": [
    "audio_path = 'dataset/example/electro_1.mp3'\n",
    "out, sr = audio_read(audio_path)\n",
    "sr"
   ]
  },
  {
   "cell_type": "code",
   "execution_count": 5,
   "metadata": {},
   "outputs": [
    {
     "data": {
      "text/plain": [
       "tensor([[0.0447, 0.0560, 0.0516,  ..., 0.1054, 0.1118, 0.0786],\n",
       "        [0.0199, 0.0178, 0.0109,  ..., 0.1387, 0.1305, 0.0877]])"
      ]
     },
     "execution_count": 5,
     "metadata": {},
     "output_type": "execute_result"
    }
   ],
   "source": [
    "out"
   ]
  },
  {
   "cell_type": "code",
   "execution_count": 11,
   "metadata": {},
   "outputs": [
    {
     "data": {
      "text/plain": [
       "torch.Size([1, 960000])"
      ]
     },
     "execution_count": 11,
     "metadata": {},
     "output_type": "execute_result"
    }
   ],
   "source": [
    "out = convert_audio(out, from_rate = sr, to_rate = 32000, to_channels=1)\n",
    "segment_duration = 30\n",
    "sample_rate = 32000\n",
    "target_frames = int(segment_duration * sample_rate)\n",
    "n_frames = out.shape[-1]\n",
    "out = F.pad(out, (0, target_frames - n_frames))\n",
    "out.shape"
   ]
  },
  {
   "cell_type": "code",
   "execution_count": null,
   "metadata": {},
   "outputs": [],
   "source": [
    "from audiocraft.models import MusicGen"
   ]
  },
  {
   "cell_type": "code",
   "execution_count": null,
   "metadata": {},
   "outputs": [],
   "source": [
    "musicgen._prepare_tokens_and_attributes()"
   ]
  },
  {
   "cell_type": "markdown",
   "metadata": {},
   "source": []
  },
  {
   "cell_type": "code",
   "execution_count": 82,
   "metadata": {},
   "outputs": [
    {
     "data": {
      "text/plain": [
       "tensor([[-0.0393, -0.0423, -0.0500,  ...,  0.0000,  0.0000,  0.0000]])"
      ]
     },
     "execution_count": 82,
     "metadata": {},
     "output_type": "execute_result"
    }
   ],
   "source": [
    "out"
   ]
  },
  {
   "cell_type": "code",
   "execution_count": null,
   "metadata": {},
   "outputs": [],
   "source": [
    "# Encode with Encodec_32khz from Facebook\n",
    "audio_tokens, scale = musicgen.compression_model.encode(audio)"
   ]
  }
 ],
 "metadata": {
  "kernelspec": {
   "display_name": ".env",
   "language": "python",
   "name": "python3"
  },
  "language_info": {
   "codemirror_mode": {
    "name": "ipython",
    "version": 3
   },
   "file_extension": ".py",
   "mimetype": "text/x-python",
   "name": "python",
   "nbconvert_exporter": "python",
   "pygments_lexer": "ipython3",
   "version": "3.9.18"
  }
 },
 "nbformat": 4,
 "nbformat_minor": 2
}
