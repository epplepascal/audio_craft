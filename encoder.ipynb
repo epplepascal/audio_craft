{
 "cells": [
  {
   "cell_type": "code",
   "execution_count": 20,
   "metadata": {},
   "outputs": [
    {
     "name": "stdout",
     "output_type": "stream",
     "text": [
      "The autoreload extension is already loaded. To reload it, use:\n",
      "  %reload_ext autoreload\n"
     ]
    }
   ],
   "source": [
    "%load_ext autoreload\n",
    "%autoreload 2"
   ]
  },
  {
   "cell_type": "code",
   "execution_count": 1,
   "metadata": {},
   "outputs": [
    {
     "name": "stderr",
     "output_type": "stream",
     "text": [
      "objc[94863]: Class AVFFrameReceiver is implemented in both /Users/epple/audio_craft/.env/lib/python3.9/site-packages/av/.dylibs/libavdevice.60.3.100.dylib (0x1570b0760) and /opt/homebrew/Cellar/ffmpeg/6.1.1_6/lib/libavdevice.60.3.100.dylib (0x16b99c370). One of the two will be used. Which one is undefined.\n",
      "objc[94863]: Class AVFAudioReceiver is implemented in both /Users/epple/audio_craft/.env/lib/python3.9/site-packages/av/.dylibs/libavdevice.60.3.100.dylib (0x1570b07b0) and /opt/homebrew/Cellar/ffmpeg/6.1.1_6/lib/libavdevice.60.3.100.dylib (0x16b99c3c0). One of the two will be used. Which one is undefined.\n",
      "/Users/epple/audio_craft/.env/lib/python3.9/site-packages/tqdm/auto.py:21: TqdmWarning: IProgress not found. Please update jupyter and ipywidgets. See https://ipywidgets.readthedocs.io/en/stable/user_install.html\n",
      "  from .autonotebook import tqdm as notebook_tqdm\n"
     ]
    }
   ],
   "source": [
    "from audiocraft.models import MusicGen\n",
    "from audiocraft.data.audio import audio_read\n",
    "from audiocraft.data.audio_utils import convert_audio\n",
    "import torch.nn.functional as F"
   ]
  },
  {
   "cell_type": "code",
   "execution_count": 4,
   "metadata": {},
   "outputs": [],
   "source": [
    "# Encode with Encodec_32khz from Facebook\n",
    "audio_path = 'dataset/example/electro_1.mp3'\n",
    "\n",
    "out, sr = audio_read(audio_path)"
   ]
  },
  {
   "cell_type": "code",
   "execution_count": 10,
   "metadata": {},
   "outputs": [],
   "source": [
    "out = convert_audio(out, from_rate = sr, to_rate = 32000, to_channels=1)\n",
    "segment_duration = 30\n",
    "sample_rate = 32000\n",
    "target_frames = int(segment_duration * sample_rate)\n",
    "n_frames = out.shape[-1]\n",
    "out = F.pad(out, (0, target_frames - n_frames))"
   ]
  },
  {
   "cell_type": "code",
   "execution_count": 13,
   "metadata": {},
   "outputs": [
    {
     "data": {
      "text/plain": [
       "torch.Size([1, 1, 960000])"
      ]
     },
     "execution_count": 13,
     "metadata": {},
     "output_type": "execute_result"
    }
   ],
   "source": [
    "out.unsqueeze(0).shape"
   ]
  },
  {
   "cell_type": "code",
   "execution_count": 2,
   "metadata": {},
   "outputs": [
    {
     "name": "stderr",
     "output_type": "stream",
     "text": [
      "/Users/epple/audio_craft/.env/lib/python3.9/site-packages/torch/nn/utils/weight_norm.py:30: UserWarning: torch.nn.utils.weight_norm is deprecated in favor of torch.nn.utils.parametrizations.weight_norm.\n",
      "  warnings.warn(\"torch.nn.utils.weight_norm is deprecated in favor of torch.nn.utils.parametrizations.weight_norm.\")\n"
     ]
    }
   ],
   "source": [
    "musicgen = MusicGen.get_pretrained('checkpoints/my_audio_lm')"
   ]
  },
  {
   "cell_type": "code",
   "execution_count": 30,
   "metadata": {},
   "outputs": [
    {
     "name": "stdout",
     "output_type": "stream",
     "text": [
      "EncodecModel(\n",
      "  (encoder): EncodecEncoder(\n",
      "    (layers): ModuleList(\n",
      "      (0): EncodecConv1d(\n",
      "        (conv): Conv1d(1, 64, kernel_size=(7,), stride=(1,))\n",
      "      )\n",
      "      (1): EncodecResnetBlock(\n",
      "        (block): ModuleList(\n",
      "          (0): ELU(alpha=1.0)\n",
      "          (1): EncodecConv1d(\n",
      "            (conv): Conv1d(64, 32, kernel_size=(3,), stride=(1,))\n",
      "          )\n",
      "          (2): ELU(alpha=1.0)\n",
      "          (3): EncodecConv1d(\n",
      "            (conv): Conv1d(32, 64, kernel_size=(1,), stride=(1,))\n",
      "          )\n",
      "        )\n",
      "        (shortcut): Identity()\n",
      "      )\n",
      "      (2): ELU(alpha=1.0)\n",
      "      (3): EncodecConv1d(\n",
      "        (conv): Conv1d(64, 128, kernel_size=(8,), stride=(4,))\n",
      "      )\n",
      "      (4): EncodecResnetBlock(\n",
      "        (block): ModuleList(\n",
      "          (0): ELU(alpha=1.0)\n",
      "          (1): EncodecConv1d(\n",
      "            (conv): Conv1d(128, 64, kernel_size=(3,), stride=(1,))\n",
      "          )\n",
      "          (2): ELU(alpha=1.0)\n",
      "          (3): EncodecConv1d(\n",
      "            (conv): Conv1d(64, 128, kernel_size=(1,), stride=(1,))\n",
      "          )\n",
      "        )\n",
      "        (shortcut): Identity()\n",
      "      )\n",
      "      (5): ELU(alpha=1.0)\n",
      "      (6): EncodecConv1d(\n",
      "        (conv): Conv1d(128, 256, kernel_size=(8,), stride=(4,))\n",
      "      )\n",
      "      (7): EncodecResnetBlock(\n",
      "        (block): ModuleList(\n",
      "          (0): ELU(alpha=1.0)\n",
      "          (1): EncodecConv1d(\n",
      "            (conv): Conv1d(256, 128, kernel_size=(3,), stride=(1,))\n",
      "          )\n",
      "          (2): ELU(alpha=1.0)\n",
      "          (3): EncodecConv1d(\n",
      "            (conv): Conv1d(128, 256, kernel_size=(1,), stride=(1,))\n",
      "          )\n",
      "        )\n",
      "        (shortcut): Identity()\n",
      "      )\n",
      "      (8): ELU(alpha=1.0)\n",
      "      (9): EncodecConv1d(\n",
      "        (conv): Conv1d(256, 512, kernel_size=(10,), stride=(5,))\n",
      "      )\n",
      "      (10): EncodecResnetBlock(\n",
      "        (block): ModuleList(\n",
      "          (0): ELU(alpha=1.0)\n",
      "          (1): EncodecConv1d(\n",
      "            (conv): Conv1d(512, 256, kernel_size=(3,), stride=(1,))\n",
      "          )\n",
      "          (2): ELU(alpha=1.0)\n",
      "          (3): EncodecConv1d(\n",
      "            (conv): Conv1d(256, 512, kernel_size=(1,), stride=(1,))\n",
      "          )\n",
      "        )\n",
      "        (shortcut): Identity()\n",
      "      )\n",
      "      (11): ELU(alpha=1.0)\n",
      "      (12): EncodecConv1d(\n",
      "        (conv): Conv1d(512, 1024, kernel_size=(16,), stride=(8,))\n",
      "      )\n",
      "      (13): EncodecLSTM(\n",
      "        (lstm): LSTM(1024, 1024, num_layers=2)\n",
      "      )\n",
      "      (14): ELU(alpha=1.0)\n",
      "      (15): EncodecConv1d(\n",
      "        (conv): Conv1d(1024, 128, kernel_size=(7,), stride=(1,))\n",
      "      )\n",
      "    )\n",
      "  )\n",
      "  (decoder): EncodecDecoder(\n",
      "    (layers): ModuleList(\n",
      "      (0): EncodecConv1d(\n",
      "        (conv): Conv1d(128, 1024, kernel_size=(7,), stride=(1,))\n",
      "      )\n",
      "      (1): EncodecLSTM(\n",
      "        (lstm): LSTM(1024, 1024, num_layers=2)\n",
      "      )\n",
      "      (2): ELU(alpha=1.0)\n",
      "      (3): EncodecConvTranspose1d(\n",
      "        (conv): ConvTranspose1d(1024, 512, kernel_size=(16,), stride=(8,))\n",
      "      )\n",
      "      (4): EncodecResnetBlock(\n",
      "        (block): ModuleList(\n",
      "          (0): ELU(alpha=1.0)\n",
      "          (1): EncodecConv1d(\n",
      "            (conv): Conv1d(512, 256, kernel_size=(3,), stride=(1,))\n",
      "          )\n",
      "          (2): ELU(alpha=1.0)\n",
      "          (3): EncodecConv1d(\n",
      "            (conv): Conv1d(256, 512, kernel_size=(1,), stride=(1,))\n",
      "          )\n",
      "        )\n",
      "        (shortcut): Identity()\n",
      "      )\n",
      "      (5): ELU(alpha=1.0)\n",
      "      (6): EncodecConvTranspose1d(\n",
      "        (conv): ConvTranspose1d(512, 256, kernel_size=(10,), stride=(5,))\n",
      "      )\n",
      "      (7): EncodecResnetBlock(\n",
      "        (block): ModuleList(\n",
      "          (0): ELU(alpha=1.0)\n",
      "          (1): EncodecConv1d(\n",
      "            (conv): Conv1d(256, 128, kernel_size=(3,), stride=(1,))\n",
      "          )\n",
      "          (2): ELU(alpha=1.0)\n",
      "          (3): EncodecConv1d(\n",
      "            (conv): Conv1d(128, 256, kernel_size=(1,), stride=(1,))\n",
      "          )\n",
      "        )\n",
      "        (shortcut): Identity()\n",
      "      )\n",
      "      (8): ELU(alpha=1.0)\n",
      "      (9): EncodecConvTranspose1d(\n",
      "        (conv): ConvTranspose1d(256, 128, kernel_size=(8,), stride=(4,))\n",
      "      )\n",
      "      (10): EncodecResnetBlock(\n",
      "        (block): ModuleList(\n",
      "          (0): ELU(alpha=1.0)\n",
      "          (1): EncodecConv1d(\n",
      "            (conv): Conv1d(128, 64, kernel_size=(3,), stride=(1,))\n",
      "          )\n",
      "          (2): ELU(alpha=1.0)\n",
      "          (3): EncodecConv1d(\n",
      "            (conv): Conv1d(64, 128, kernel_size=(1,), stride=(1,))\n",
      "          )\n",
      "        )\n",
      "        (shortcut): Identity()\n",
      "      )\n",
      "      (11): ELU(alpha=1.0)\n",
      "      (12): EncodecConvTranspose1d(\n",
      "        (conv): ConvTranspose1d(128, 64, kernel_size=(8,), stride=(4,))\n",
      "      )\n",
      "      (13): EncodecResnetBlock(\n",
      "        (block): ModuleList(\n",
      "          (0): ELU(alpha=1.0)\n",
      "          (1): EncodecConv1d(\n",
      "            (conv): Conv1d(64, 32, kernel_size=(3,), stride=(1,))\n",
      "          )\n",
      "          (2): ELU(alpha=1.0)\n",
      "          (3): EncodecConv1d(\n",
      "            (conv): Conv1d(32, 64, kernel_size=(1,), stride=(1,))\n",
      "          )\n",
      "        )\n",
      "        (shortcut): Identity()\n",
      "      )\n",
      "      (14): ELU(alpha=1.0)\n",
      "      (15): EncodecConv1d(\n",
      "        (conv): Conv1d(64, 1, kernel_size=(7,), stride=(1,))\n",
      "      )\n",
      "    )\n",
      "  )\n",
      "  (quantizer): EncodecResidualVectorQuantizer(\n",
      "    (layers): ModuleList(\n",
      "      (0-3): 4 x EncodecVectorQuantization(\n",
      "        (codebook): EncodecEuclideanCodebook()\n",
      "      )\n",
      "    )\n",
      "  )\n",
      ")\n",
      "EncodecEncoderOutput(audio_codes=tensor([[[[ 648,  118, 2008,  ...,   83,   83,   83],\n",
      "          [1005, 1070, 1048,  ..., 2044, 2044, 2044],\n",
      "          [ 551,  638, 1854,  ..., 2019, 2019, 2019],\n",
      "          [ 281, 1795, 1661,  ..., 1770, 1770, 1770]]]]), audio_scales=[None])\n"
     ]
    }
   ],
   "source": [
    "out = out.reshape(1,-1)\n",
    "audio_tokens, scale = musicgen.compression_model.encode(out.unsqueeze(0))"
   ]
  },
  {
   "cell_type": "code",
   "execution_count": 16,
   "metadata": {},
   "outputs": [
    {
     "data": {
      "text/plain": [
       "tensor([[[ 648,  118, 2008,  ...,   83,   83,   83],\n",
       "         [1005, 1070, 1048,  ..., 2044, 2044, 2044],\n",
       "         [ 551,  638, 1854,  ..., 2019, 2019, 2019],\n",
       "         [ 281, 1795, 1661,  ..., 1770, 1770, 1770]]])"
      ]
     },
     "execution_count": 16,
     "metadata": {},
     "output_type": "execute_result"
    }
   ],
   "source": [
    "audio_tokens"
   ]
  }
 ],
 "metadata": {
  "kernelspec": {
   "display_name": ".env",
   "language": "python",
   "name": "python3"
  },
  "language_info": {
   "codemirror_mode": {
    "name": "ipython",
    "version": 3
   },
   "file_extension": ".py",
   "mimetype": "text/x-python",
   "name": "python",
   "nbconvert_exporter": "python",
   "pygments_lexer": "ipython3",
   "version": "3.9.18"
  }
 },
 "nbformat": 4,
 "nbformat_minor": 2
}
